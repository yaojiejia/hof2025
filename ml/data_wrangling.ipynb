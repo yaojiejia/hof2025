{
 "cells": [
  {
   "cell_type": "code",
   "execution_count": null,
   "id": "a43a08f8",
   "metadata": {},
   "outputs": [],
   "source": [
    "import seaborn as sns\n",
    "import pandas as pd\n",
    "import matplotlib.pyplot as plt\n",
    "import numpy as np\n",
    "import requests\n"
   ]
  },
  {
   "cell_type": "code",
   "execution_count": null,
   "id": "db78395b",
   "metadata": {},
   "outputs": [
    {
     "data": {
      "text/html": [
       "<div>\n",
       "<style scoped>\n",
       "    .dataframe tbody tr th:only-of-type {\n",
       "        vertical-align: middle;\n",
       "    }\n",
       "\n",
       "    .dataframe tbody tr th {\n",
       "        vertical-align: top;\n",
       "    }\n",
       "\n",
       "    .dataframe thead th {\n",
       "        text-align: right;\n",
       "    }\n",
       "</style>\n",
       "<table border=\"1\" class=\"dataframe\">\n",
       "  <thead>\n",
       "    <tr style=\"text-align: right;\">\n",
       "      <th></th>\n",
       "      <th>after_price</th>\n",
       "      <th>before_price</th>\n",
       "      <th>comment</th>\n",
       "      <th>id</th>\n",
       "      <th>score</th>\n",
       "      <th>sector</th>\n",
       "      <th>sentiment_score</th>\n",
       "      <th>stock_ticker</th>\n",
       "      <th>time</th>\n",
       "    </tr>\n",
       "  </thead>\n",
       "  <tbody>\n",
       "    <tr>\n",
       "      <th>0</th>\n",
       "      <td>421.871399</td>\n",
       "      <td>423.918823</td>\n",
       "      <td>YOLO my life's savings in 0DTE Far OTM options...</td>\n",
       "      <td>1111</td>\n",
       "      <td>70</td>\n",
       "      <td>N/A</td>\n",
       "      <td>0.8</td>\n",
       "      <td>N/A</td>\n",
       "      <td>Wed, 24 Apr 2024 19:31:50 GMT</td>\n",
       "    </tr>\n",
       "    <tr>\n",
       "      <th>1</th>\n",
       "      <td>421.871399</td>\n",
       "      <td>423.918823</td>\n",
       "      <td>This is horrible advice, never has there been ...</td>\n",
       "      <td>1112</td>\n",
       "      <td>70</td>\n",
       "      <td>N/A</td>\n",
       "      <td>-0.8</td>\n",
       "      <td>N/A</td>\n",
       "      <td>Wed, 24 Apr 2024 19:36:15 GMT</td>\n",
       "    </tr>\n",
       "    <tr>\n",
       "      <th>2</th>\n",
       "      <td>421.871399</td>\n",
       "      <td>423.918823</td>\n",
       "      <td>So what I'm hearing is that I should be sellin...</td>\n",
       "      <td>1110</td>\n",
       "      <td>113</td>\n",
       "      <td>N/A</td>\n",
       "      <td>0.6</td>\n",
       "      <td>N/A</td>\n",
       "      <td>Wed, 24 Apr 2024 20:33:00 GMT</td>\n",
       "    </tr>\n",
       "    <tr>\n",
       "      <th>3</th>\n",
       "      <td>421.871399</td>\n",
       "      <td>423.918823</td>\n",
       "      <td>Trading off news is  bad for your health</td>\n",
       "      <td>1109</td>\n",
       "      <td>83</td>\n",
       "      <td>N/A</td>\n",
       "      <td>-0.7</td>\n",
       "      <td>N/A</td>\n",
       "      <td>Wed, 24 Apr 2024 23:49:41 GMT</td>\n",
       "    </tr>\n",
       "    <tr>\n",
       "      <th>4</th>\n",
       "      <td>428.381561</td>\n",
       "      <td>421.871399</td>\n",
       "      <td>That's good, no? It should help with inflation...</td>\n",
       "      <td>1104</td>\n",
       "      <td>73</td>\n",
       "      <td>N/A</td>\n",
       "      <td>-0.6</td>\n",
       "      <td>N/A</td>\n",
       "      <td>Thu, 25 Apr 2024 12:51:20 GMT</td>\n",
       "    </tr>\n",
       "  </tbody>\n",
       "</table>\n",
       "</div>"
      ],
      "text/plain": [
       "   after_price  before_price  \\\n",
       "0   421.871399    423.918823   \n",
       "1   421.871399    423.918823   \n",
       "2   421.871399    423.918823   \n",
       "3   421.871399    423.918823   \n",
       "4   428.381561    421.871399   \n",
       "\n",
       "                                             comment    id  score sector  \\\n",
       "0  YOLO my life's savings in 0DTE Far OTM options...  1111     70    N/A   \n",
       "1  This is horrible advice, never has there been ...  1112     70    N/A   \n",
       "2  So what I'm hearing is that I should be sellin...  1110    113    N/A   \n",
       "3           Trading off news is  bad for your health  1109     83    N/A   \n",
       "4  That's good, no? It should help with inflation...  1104     73    N/A   \n",
       "\n",
       "   sentiment_score stock_ticker                           time  \n",
       "0              0.8          N/A  Wed, 24 Apr 2024 19:31:50 GMT  \n",
       "1             -0.8          N/A  Wed, 24 Apr 2024 19:36:15 GMT  \n",
       "2              0.6          N/A  Wed, 24 Apr 2024 20:33:00 GMT  \n",
       "3             -0.7          N/A  Wed, 24 Apr 2024 23:49:41 GMT  \n",
       "4             -0.6          N/A  Thu, 25 Apr 2024 12:51:20 GMT  "
      ]
     },
     "metadata": {},
     "output_type": "display_data"
    }
   ],
   "source": [
    "# get data from our database\n",
    "url = \"http://3.145.78.241:5000/gethistoricdata\"\n",
    "resp = requests.get(url)\n",
    "resp.raise_for_status()             \n",
    "data = resp.json()                 \n",
    "\n",
    "df = pd.DataFrame(data)\n",
    "\n",
    "display(df.head())\n"
   ]
  },
  {
   "cell_type": "code",
   "execution_count": 11,
   "id": "2bbe750c",
   "metadata": {},
   "outputs": [
    {
     "data": {
      "text/html": [
       "<div>\n",
       "<style scoped>\n",
       "    .dataframe tbody tr th:only-of-type {\n",
       "        vertical-align: middle;\n",
       "    }\n",
       "\n",
       "    .dataframe tbody tr th {\n",
       "        vertical-align: top;\n",
       "    }\n",
       "\n",
       "    .dataframe thead th {\n",
       "        text-align: right;\n",
       "    }\n",
       "</style>\n",
       "<table border=\"1\" class=\"dataframe\">\n",
       "  <thead>\n",
       "    <tr style=\"text-align: right;\">\n",
       "      <th></th>\n",
       "      <th>after_price</th>\n",
       "      <th>before_price</th>\n",
       "      <th>comment</th>\n",
       "      <th>id</th>\n",
       "      <th>score</th>\n",
       "      <th>sector</th>\n",
       "      <th>sentiment_score</th>\n",
       "      <th>stock_ticker</th>\n",
       "      <th>time</th>\n",
       "      <th>change</th>\n",
       "    </tr>\n",
       "  </thead>\n",
       "  <tbody>\n",
       "    <tr>\n",
       "      <th>0</th>\n",
       "      <td>421.871399</td>\n",
       "      <td>423.918823</td>\n",
       "      <td>YOLO my life's savings in 0DTE Far OTM options...</td>\n",
       "      <td>1111</td>\n",
       "      <td>70</td>\n",
       "      <td>N/A</td>\n",
       "      <td>0.8</td>\n",
       "      <td>N/A</td>\n",
       "      <td>Wed, 24 Apr 2024 19:31:50 GMT</td>\n",
       "      <td>-2.047424</td>\n",
       "    </tr>\n",
       "    <tr>\n",
       "      <th>1</th>\n",
       "      <td>421.871399</td>\n",
       "      <td>423.918823</td>\n",
       "      <td>This is horrible advice, never has there been ...</td>\n",
       "      <td>1112</td>\n",
       "      <td>70</td>\n",
       "      <td>N/A</td>\n",
       "      <td>-0.8</td>\n",
       "      <td>N/A</td>\n",
       "      <td>Wed, 24 Apr 2024 19:36:15 GMT</td>\n",
       "      <td>-2.047424</td>\n",
       "    </tr>\n",
       "    <tr>\n",
       "      <th>2</th>\n",
       "      <td>421.871399</td>\n",
       "      <td>423.918823</td>\n",
       "      <td>So what I'm hearing is that I should be sellin...</td>\n",
       "      <td>1110</td>\n",
       "      <td>113</td>\n",
       "      <td>N/A</td>\n",
       "      <td>0.6</td>\n",
       "      <td>N/A</td>\n",
       "      <td>Wed, 24 Apr 2024 20:33:00 GMT</td>\n",
       "      <td>-2.047424</td>\n",
       "    </tr>\n",
       "    <tr>\n",
       "      <th>3</th>\n",
       "      <td>421.871399</td>\n",
       "      <td>423.918823</td>\n",
       "      <td>Trading off news is  bad for your health</td>\n",
       "      <td>1109</td>\n",
       "      <td>83</td>\n",
       "      <td>N/A</td>\n",
       "      <td>-0.7</td>\n",
       "      <td>N/A</td>\n",
       "      <td>Wed, 24 Apr 2024 23:49:41 GMT</td>\n",
       "      <td>-2.047424</td>\n",
       "    </tr>\n",
       "    <tr>\n",
       "      <th>4</th>\n",
       "      <td>428.381561</td>\n",
       "      <td>421.871399</td>\n",
       "      <td>That's good, no? It should help with inflation...</td>\n",
       "      <td>1104</td>\n",
       "      <td>73</td>\n",
       "      <td>N/A</td>\n",
       "      <td>-0.6</td>\n",
       "      <td>N/A</td>\n",
       "      <td>Thu, 25 Apr 2024 12:51:20 GMT</td>\n",
       "      <td>6.510162</td>\n",
       "    </tr>\n",
       "  </tbody>\n",
       "</table>\n",
       "</div>"
      ],
      "text/plain": [
       "   after_price  before_price  \\\n",
       "0   421.871399    423.918823   \n",
       "1   421.871399    423.918823   \n",
       "2   421.871399    423.918823   \n",
       "3   421.871399    423.918823   \n",
       "4   428.381561    421.871399   \n",
       "\n",
       "                                             comment    id  score sector  \\\n",
       "0  YOLO my life's savings in 0DTE Far OTM options...  1111     70    N/A   \n",
       "1  This is horrible advice, never has there been ...  1112     70    N/A   \n",
       "2  So what I'm hearing is that I should be sellin...  1110    113    N/A   \n",
       "3           Trading off news is  bad for your health  1109     83    N/A   \n",
       "4  That's good, no? It should help with inflation...  1104     73    N/A   \n",
       "\n",
       "   sentiment_score stock_ticker                           time    change  \n",
       "0              0.8          N/A  Wed, 24 Apr 2024 19:31:50 GMT -2.047424  \n",
       "1             -0.8          N/A  Wed, 24 Apr 2024 19:36:15 GMT -2.047424  \n",
       "2              0.6          N/A  Wed, 24 Apr 2024 20:33:00 GMT -2.047424  \n",
       "3             -0.7          N/A  Wed, 24 Apr 2024 23:49:41 GMT -2.047424  \n",
       "4             -0.6          N/A  Thu, 25 Apr 2024 12:51:20 GMT  6.510162  "
      ]
     },
     "execution_count": 11,
     "metadata": {},
     "output_type": "execute_result"
    }
   ],
   "source": [
    "df[\"change\"] = df[\"after_price\"] - df[\"before_price\"]\n",
    "df.head()"
   ]
  },
  {
   "cell_type": "code",
   "execution_count": 12,
   "id": "77718e7f",
   "metadata": {},
   "outputs": [
    {
     "data": {
      "text/html": [
       "<div>\n",
       "<style scoped>\n",
       "    .dataframe tbody tr th:only-of-type {\n",
       "        vertical-align: middle;\n",
       "    }\n",
       "\n",
       "    .dataframe tbody tr th {\n",
       "        vertical-align: top;\n",
       "    }\n",
       "\n",
       "    .dataframe thead th {\n",
       "        text-align: right;\n",
       "    }\n",
       "</style>\n",
       "<table border=\"1\" class=\"dataframe\">\n",
       "  <thead>\n",
       "    <tr style=\"text-align: right;\">\n",
       "      <th></th>\n",
       "      <th>score</th>\n",
       "      <th>sentiment_score</th>\n",
       "      <th>change</th>\n",
       "    </tr>\n",
       "  </thead>\n",
       "  <tbody>\n",
       "    <tr>\n",
       "      <th>0</th>\n",
       "      <td>70</td>\n",
       "      <td>0.8</td>\n",
       "      <td>-2.047424</td>\n",
       "    </tr>\n",
       "    <tr>\n",
       "      <th>1</th>\n",
       "      <td>70</td>\n",
       "      <td>-0.8</td>\n",
       "      <td>-2.047424</td>\n",
       "    </tr>\n",
       "    <tr>\n",
       "      <th>2</th>\n",
       "      <td>113</td>\n",
       "      <td>0.6</td>\n",
       "      <td>-2.047424</td>\n",
       "    </tr>\n",
       "    <tr>\n",
       "      <th>3</th>\n",
       "      <td>83</td>\n",
       "      <td>-0.7</td>\n",
       "      <td>-2.047424</td>\n",
       "    </tr>\n",
       "    <tr>\n",
       "      <th>4</th>\n",
       "      <td>73</td>\n",
       "      <td>-0.6</td>\n",
       "      <td>6.510162</td>\n",
       "    </tr>\n",
       "  </tbody>\n",
       "</table>\n",
       "</div>"
      ],
      "text/plain": [
       "   score  sentiment_score    change\n",
       "0     70              0.8 -2.047424\n",
       "1     70             -0.8 -2.047424\n",
       "2    113              0.6 -2.047424\n",
       "3     83             -0.7 -2.047424\n",
       "4     73             -0.6  6.510162"
      ]
     },
     "execution_count": 12,
     "metadata": {},
     "output_type": "execute_result"
    }
   ],
   "source": [
    "df = df[[\"score\", \"sentiment_score\", \"change\"]]\n",
    "df.head()"
   ]
  },
  {
   "cell_type": "code",
   "execution_count": 13,
   "id": "544069bf",
   "metadata": {},
   "outputs": [
    {
     "data": {
      "text/plain": [
       "(2802, 3)"
      ]
     },
     "execution_count": 13,
     "metadata": {},
     "output_type": "execute_result"
    }
   ],
   "source": [
    "df.shape "
   ]
  },
  {
   "cell_type": "code",
   "execution_count": 14,
   "id": "44a4bcf0",
   "metadata": {},
   "outputs": [
    {
     "data": {
      "text/plain": [
       "score                int64\n",
       "sentiment_score    float64\n",
       "change             float64\n",
       "dtype: object"
      ]
     },
     "execution_count": 14,
     "metadata": {},
     "output_type": "execute_result"
    }
   ],
   "source": [
    "df.dtypes"
   ]
  },
  {
   "cell_type": "code",
   "execution_count": 15,
   "id": "df5c1d6a",
   "metadata": {},
   "outputs": [
    {
     "data": {
      "text/html": [
       "<div>\n",
       "<style scoped>\n",
       "    .dataframe tbody tr th:only-of-type {\n",
       "        vertical-align: middle;\n",
       "    }\n",
       "\n",
       "    .dataframe tbody tr th {\n",
       "        vertical-align: top;\n",
       "    }\n",
       "\n",
       "    .dataframe thead th {\n",
       "        text-align: right;\n",
       "    }\n",
       "</style>\n",
       "<table border=\"1\" class=\"dataframe\">\n",
       "  <thead>\n",
       "    <tr style=\"text-align: right;\">\n",
       "      <th></th>\n",
       "      <th>score</th>\n",
       "      <th>sentiment_score</th>\n",
       "      <th>change</th>\n",
       "    </tr>\n",
       "  </thead>\n",
       "  <tbody>\n",
       "    <tr>\n",
       "      <th>count</th>\n",
       "      <td>2802.000000</td>\n",
       "      <td>2802.000000</td>\n",
       "      <td>2468.000000</td>\n",
       "    </tr>\n",
       "    <tr>\n",
       "      <th>mean</th>\n",
       "      <td>314.021413</td>\n",
       "      <td>-0.016221</td>\n",
       "      <td>-0.379117</td>\n",
       "    </tr>\n",
       "    <tr>\n",
       "      <th>std</th>\n",
       "      <td>569.208942</td>\n",
       "      <td>0.639993</td>\n",
       "      <td>8.364392</td>\n",
       "    </tr>\n",
       "    <tr>\n",
       "      <th>min</th>\n",
       "      <td>50.000000</td>\n",
       "      <td>-1.000000</td>\n",
       "      <td>-27.989990</td>\n",
       "    </tr>\n",
       "    <tr>\n",
       "      <th>25%</th>\n",
       "      <td>77.000000</td>\n",
       "      <td>-0.700000</td>\n",
       "      <td>-3.005493</td>\n",
       "    </tr>\n",
       "    <tr>\n",
       "      <th>50%</th>\n",
       "      <td>133.500000</td>\n",
       "      <td>0.200000</td>\n",
       "      <td>1.577637</td>\n",
       "    </tr>\n",
       "    <tr>\n",
       "      <th>75%</th>\n",
       "      <td>292.750000</td>\n",
       "      <td>0.600000</td>\n",
       "      <td>4.655518</td>\n",
       "    </tr>\n",
       "    <tr>\n",
       "      <th>max</th>\n",
       "      <td>9857.000000</td>\n",
       "      <td>1.000000</td>\n",
       "      <td>13.240265</td>\n",
       "    </tr>\n",
       "  </tbody>\n",
       "</table>\n",
       "</div>"
      ],
      "text/plain": [
       "             score  sentiment_score       change\n",
       "count  2802.000000      2802.000000  2468.000000\n",
       "mean    314.021413        -0.016221    -0.379117\n",
       "std     569.208942         0.639993     8.364392\n",
       "min      50.000000        -1.000000   -27.989990\n",
       "25%      77.000000        -0.700000    -3.005493\n",
       "50%     133.500000         0.200000     1.577637\n",
       "75%     292.750000         0.600000     4.655518\n",
       "max    9857.000000         1.000000    13.240265"
      ]
     },
     "execution_count": 15,
     "metadata": {},
     "output_type": "execute_result"
    }
   ],
   "source": [
    "df.describe()"
   ]
  },
  {
   "cell_type": "code",
   "execution_count": 21,
   "id": "55ff13bd",
   "metadata": {},
   "outputs": [
    {
     "data": {
      "text/plain": [
       "score              0\n",
       "sentiment_score    0\n",
       "change             0\n",
       "dtype: int64"
      ]
     },
     "execution_count": 21,
     "metadata": {},
     "output_type": "execute_result"
    }
   ],
   "source": [
    "df.isnull().sum()"
   ]
  },
  {
   "cell_type": "code",
   "execution_count": 20,
   "id": "46633eeb",
   "metadata": {},
   "outputs": [],
   "source": [
    "df.dropna(subset=['change'], inplace=True)"
   ]
  },
  {
   "cell_type": "code",
   "execution_count": 24,
   "id": "924e9664",
   "metadata": {},
   "outputs": [
    {
     "data": {
      "text/plain": [
       "0"
      ]
     },
     "execution_count": 24,
     "metadata": {},
     "output_type": "execute_result"
    }
   ],
   "source": [
    "df.duplicated().sum()"
   ]
  },
  {
   "cell_type": "code",
   "execution_count": 23,
   "id": "35e93b84",
   "metadata": {},
   "outputs": [],
   "source": [
    "df.drop_duplicates(inplace=True)"
   ]
  },
  {
   "cell_type": "code",
   "execution_count": 31,
   "id": "527a1607",
   "metadata": {},
   "outputs": [],
   "source": [
    "df.to_csv('cleanedData.csv', index=False)"
   ]
  }
 ],
 "metadata": {
  "kernelspec": {
   "display_name": "base",
   "language": "python",
   "name": "python3"
  },
  "language_info": {
   "codemirror_mode": {
    "name": "ipython",
    "version": 3
   },
   "file_extension": ".py",
   "mimetype": "text/x-python",
   "name": "python",
   "nbconvert_exporter": "python",
   "pygments_lexer": "ipython3",
   "version": "3.12.7"
  }
 },
 "nbformat": 4,
 "nbformat_minor": 5
}
